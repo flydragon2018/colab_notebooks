{
  "cells": [
    {
      "cell_type": "markdown",
      "metadata": {
        "id": "view-in-github",
        "colab_type": "text"
      },
      "source": [
        "<a href=\"https://colab.research.google.com/github/flydragon2018/colab_notebooks/blob/main/yolov5_high_resolution_training.ipynb\" target=\"_parent\"><img src=\"https://colab.research.google.com/assets/colab-badge.svg\" alt=\"Open In Colab\"/></a>"
      ]
    },
    {
      "cell_type": "markdown",
      "id": "808f9594",
      "metadata": {
        "papermill": {
          "duration": 0.014295,
          "end_time": "2022-01-13T15:51:23.123224",
          "exception": false,
          "start_time": "2022-01-13T15:51:23.108929",
          "status": "completed"
        },
        "tags": [],
        "id": "808f9594"
      },
      "source": [
        "## Yolov5 high resolution training\n",
        "\n",
        "### Major modification\n",
        "* img=3600\n",
        "* mixup=0.5\n",
        "* fliplr: 0.5\n",
        "\n",
        "### Hardware to reproduce\n",
        "* RTX3090"
      ]
    },
    {
      "cell_type": "code",
      "source": [
        "!nvidia-smi"
      ],
      "metadata": {
        "colab": {
          "base_uri": "https://localhost:8080/"
        },
        "id": "0oFoyqIze4Wa",
        "outputId": "220a2a6b-9681-407a-e1dc-ebdeb92ba228"
      },
      "id": "0oFoyqIze4Wa",
      "execution_count": 1,
      "outputs": [
        {
          "output_type": "stream",
          "name": "stdout",
          "text": [
            "Mon Jan 17 07:57:36 2022       \n",
            "+-----------------------------------------------------------------------------+\n",
            "| NVIDIA-SMI 495.46       Driver Version: 460.32.03    CUDA Version: 11.2     |\n",
            "|-------------------------------+----------------------+----------------------+\n",
            "| GPU  Name        Persistence-M| Bus-Id        Disp.A | Volatile Uncorr. ECC |\n",
            "| Fan  Temp  Perf  Pwr:Usage/Cap|         Memory-Usage | GPU-Util  Compute M. |\n",
            "|                               |                      |               MIG M. |\n",
            "|===============================+======================+======================|\n",
            "|   0  Tesla P100-PCIE...  Off  | 00000000:00:04.0 Off |                    0 |\n",
            "| N/A   34C    P0    27W / 250W |      0MiB / 16280MiB |      0%      Default |\n",
            "|                               |                      |                  N/A |\n",
            "+-------------------------------+----------------------+----------------------+\n",
            "                                                                               \n",
            "+-----------------------------------------------------------------------------+\n",
            "| Processes:                                                                  |\n",
            "|  GPU   GI   CI        PID   Type   Process name                  GPU Memory |\n",
            "|        ID   ID                                                   Usage      |\n",
            "|=============================================================================|\n",
            "|  No running processes found                                                 |\n",
            "+-----------------------------------------------------------------------------+\n"
          ]
        }
      ]
    },
    {
      "cell_type": "code",
      "source": [
        "from google.colab import drive\n",
        "drive.mount('/content/mydrive', force_remount=True)"
      ],
      "metadata": {
        "colab": {
          "base_uri": "https://localhost:8080/"
        },
        "id": "goQSYKaIe4ab",
        "outputId": "5ffeb908-ac62-41a5-ad49-95986f38d5ef"
      },
      "id": "goQSYKaIe4ab",
      "execution_count": 2,
      "outputs": [
        {
          "output_type": "stream",
          "name": "stdout",
          "text": [
            "Mounted at /content/mydrive\n"
          ]
        }
      ]
    },
    {
      "cell_type": "code",
      "source": [
        ""
      ],
      "metadata": {
        "id": "7LvE3SH9e4eD"
      },
      "id": "7LvE3SH9e4eD",
      "execution_count": 2,
      "outputs": []
    },
    {
      "cell_type": "code",
      "execution_count": 3,
      "id": "a427573d",
      "metadata": {
        "_cell_guid": "b1076dfc-b9ad-4769-8c92-a6c4dae69d19",
        "_uuid": "8f2839f25d086af736a60e9eeb907d3b93b6e0e5",
        "execution": {
          "iopub.execute_input": "2022-01-13T15:51:23.164997Z",
          "iopub.status.busy": "2022-01-13T15:51:23.163871Z",
          "iopub.status.idle": "2022-01-13T15:51:23.172275Z",
          "shell.execute_reply": "2022-01-13T15:51:23.172885Z",
          "shell.execute_reply.started": "2022-01-13T15:39:58.613315Z"
        },
        "papermill": {
          "duration": 0.034296,
          "end_time": "2022-01-13T15:51:23.173228",
          "exception": false,
          "start_time": "2022-01-13T15:51:23.138932",
          "status": "completed"
        },
        "tags": [],
        "id": "a427573d"
      },
      "outputs": [],
      "source": [
        "# This Python 3 environment comes with many helpful analytics libraries installed\n",
        "# It is defined by the kaggle/python Docker image: https://github.com/kaggle/docker-python\n",
        "# For example, here's several helpful packages to load\n",
        "\n",
        "import numpy as np # linear algebra\n",
        "import pandas as pd # data processing, CSV file I/O (e.g. pd.read_csv)\n",
        "from shutil import copyfile\n",
        "\n",
        "# Input data files are available in the read-only \"../input/\" directory\n",
        "# For example, running this (by clicking run or pressing Shift+Enter) will list all files under the input directory"
      ]
    },
    {
      "cell_type": "code",
      "execution_count": 4,
      "id": "2e9e9a46",
      "metadata": {
        "execution": {
          "iopub.execute_input": "2022-01-13T15:51:23.206188Z",
          "iopub.status.busy": "2022-01-13T15:51:23.205479Z",
          "iopub.status.idle": "2022-01-13T15:51:23.269679Z",
          "shell.execute_reply": "2022-01-13T15:51:23.270187Z",
          "shell.execute_reply.started": "2022-01-13T15:39:59.357357Z"
        },
        "papermill": {
          "duration": 0.083521,
          "end_time": "2022-01-13T15:51:23.270414",
          "exception": false,
          "start_time": "2022-01-13T15:51:23.186893",
          "status": "completed"
        },
        "tags": [],
        "id": "2e9e9a46"
      },
      "outputs": [],
      "source": [
        "#train = pd.read_csv('../input/tensorflow-great-barrier-reef/train.csv')\n",
        "\n",
        "train = pd.read_csv('/content/mydrive/MyDrive/kaggle/reef/train.csv')\n",
        "\n",
        "\n",
        "train['pos'] = train.annotations != '[]'"
      ]
    },
    {
      "cell_type": "code",
      "execution_count": 5,
      "id": "47bdbe53",
      "metadata": {
        "execution": {
          "iopub.execute_input": "2022-01-13T15:51:23.308115Z",
          "iopub.status.busy": "2022-01-13T15:51:23.307072Z",
          "iopub.status.idle": "2022-01-13T15:51:26.328707Z",
          "shell.execute_reply": "2022-01-13T15:51:26.327770Z",
          "shell.execute_reply.started": "2022-01-13T15:39:59.930389Z"
        },
        "papermill": {
          "duration": 3.044848,
          "end_time": "2022-01-13T15:51:26.328902",
          "exception": false,
          "start_time": "2022-01-13T15:51:23.284054",
          "status": "completed"
        },
        "tags": [],
        "id": "47bdbe53"
      },
      "outputs": [],
      "source": [
        "!mkdir -p ./yolo_data/fold1/images/val\n",
        "!mkdir -p ./yolo_data/fold1/images/train\n",
        "\n",
        "!mkdir -p ./yolo_data/fold1/labels/val\n",
        "!mkdir -p ./yolo_data/fold1/labels/train"
      ]
    },
    {
      "cell_type": "code",
      "execution_count": 6,
      "id": "f8b71e00",
      "metadata": {
        "execution": {
          "iopub.execute_input": "2022-01-13T15:51:26.368056Z",
          "iopub.status.busy": "2022-01-13T15:51:26.365228Z",
          "iopub.status.idle": "2022-01-13T15:53:47.342006Z",
          "shell.execute_reply": "2022-01-13T15:53:47.340882Z",
          "shell.execute_reply.started": "2022-01-13T15:40:02.552751Z"
        },
        "papermill": {
          "duration": 140.999577,
          "end_time": "2022-01-13T15:53:47.342198",
          "exception": false,
          "start_time": "2022-01-13T15:51:26.342621",
          "status": "completed"
        },
        "tags": [],
        "id": "f8b71e00",
        "colab": {
          "base_uri": "https://localhost:8080/",
          "height": 122
        },
        "outputId": "be9007f1-939d-4eb6-efd5-48303ecaea9b"
      },
      "outputs": [
        {
          "output_type": "execute_result",
          "data": {
            "application/vnd.google.colaboratory.intrinsic+json": {
              "type": "string"
            },
            "text/plain": [
              "\"\\nfold = 1\\n\\nannos = []\\nfor i, x in train.iterrows():\\n    if x.video_id == fold:\\n        mode = 'val'\\n    else:\\n        # train\\n        mode = 'train'\\n        if not x.pos: continue\\n        # val\\n    copyfile(f'/content/mydrive/MyDrive/kaggle/reef/train_images/video_{x.video_id}/{x.video_frame}.jpg',\\n                f'./yolo_data/fold{fold}/images/{mode}/{x.image_id}.jpg')\\n    if not x.pos:\\n        continue\\n    r = ''\\n    anno = eval(x.annotations)\\n    for an in anno:\\n#            annos.append(an)\\n        r += '0 {} {} {} {}\\n'.format((an['x'] + an['width'] / 2) / 1280,\\n                                        (an['y'] + an['height'] / 2) / 720,\\n                                        an['width'] / 1280, an['height'] / 720)\\n    with open(f'./yolo_data/fold{fold}/labels/{mode}/{x.image_id}.txt', 'w') as fp:\\n        fp.write(r)\\n \""
            ]
          },
          "metadata": {},
          "execution_count": 6
        }
      ],
      "source": [
        "'''\n",
        "fold = 1\n",
        "\n",
        "annos = []\n",
        "for i, x in train.iterrows():\n",
        "    if x.video_id == fold:\n",
        "        mode = 'val'\n",
        "    else:\n",
        "        # train\n",
        "        mode = 'train'\n",
        "        if not x.pos: continue\n",
        "        # val\n",
        "    copyfile(f'/content/mydrive/MyDrive/kaggle/reef/train_images/video_{x.video_id}/{x.video_frame}.jpg',\n",
        "                f'./yolo_data/fold{fold}/images/{mode}/{x.image_id}.jpg')\n",
        "    if not x.pos:\n",
        "        continue\n",
        "    r = ''\n",
        "    anno = eval(x.annotations)\n",
        "    for an in anno:\n",
        "#            annos.append(an)\n",
        "        r += '0 {} {} {} {}\\n'.format((an['x'] + an['width'] / 2) / 1280,\n",
        "                                        (an['y'] + an['height'] / 2) / 720,\n",
        "                                        an['width'] / 1280, an['height'] / 720)\n",
        "    with open(f'./yolo_data/fold{fold}/labels/{mode}/{x.image_id}.txt', 'w') as fp:\n",
        "        fp.write(r)\n",
        " '''"
      ]
    },
    {
      "cell_type": "code",
      "source": [
        "#!cp -rf  /content/yolo_data  /content/mydrive/MyDrive/"
      ],
      "metadata": {
        "id": "bSK0tyO-hXlT"
      },
      "id": "bSK0tyO-hXlT",
      "execution_count": 7,
      "outputs": []
    },
    {
      "cell_type": "code",
      "source": [
        "!cp -rf /content/mydrive/MyDrive/yolo_data  /content/"
      ],
      "metadata": {
        "id": "x4LICCP0bHQh"
      },
      "id": "x4LICCP0bHQh",
      "execution_count": 8,
      "outputs": []
    },
    {
      "cell_type": "code",
      "execution_count": 9,
      "id": "f77ef231",
      "metadata": {
        "execution": {
          "iopub.execute_input": "2022-01-13T15:53:47.383194Z",
          "iopub.status.busy": "2022-01-13T15:53:47.382218Z",
          "iopub.status.idle": "2022-01-13T15:53:47.385571Z",
          "shell.execute_reply": "2022-01-13T15:53:47.385009Z",
          "shell.execute_reply.started": "2022-01-13T15:43:48.971357Z"
        },
        "papermill": {
          "duration": 0.023169,
          "end_time": "2022-01-13T15:53:47.385743",
          "exception": false,
          "start_time": "2022-01-13T15:53:47.362574",
          "status": "completed"
        },
        "tags": [],
        "id": "f77ef231"
      },
      "outputs": [],
      "source": [
        "hyps = '''\n",
        "# YOLOv5 by Ultralytics, GPL-3.0 license\n",
        "# Hyperparameters for COCO training from scratch\n",
        "# python train.py --batch 40 --cfg yolov5m.yaml --weights '' --data coco.yaml --img 640 --epochs 300\n",
        "# See tutorials for hyperparameter evolution https://github.com/ultralytics/yolov5#tutorials\n",
        "\n",
        "lr0: 0.01  # initial learning rate (SGD=1E-2, Adam=1E-3)\n",
        "lrf: 0.1  # final OneCycleLR learning rate (lr0 * lrf)\n",
        "momentum: 0.937  # SGD momentum/Adam beta1\n",
        "weight_decay: 0.0005  # optimizer weight decay 5e-4\n",
        "warmup_epochs: 3.0  # warmup epochs (fractions ok)\n",
        "warmup_momentum: 0.8  # warmup initial momentum\n",
        "warmup_bias_lr: 0.1  # warmup initial bias lr\n",
        "box: 0.05  # box loss gain\n",
        "cls: 0.5  # cls loss gain\n",
        "cls_pw: 1.0  # cls BCELoss positive_weight\n",
        "obj: 1.0  # obj loss gain (scale with pixels)\n",
        "obj_pw: 1.0  # obj BCELoss positive_weight\n",
        "iou_t: 0.20  # IoU training threshold\n",
        "anchor_t: 4.0  # anchor-multiple threshold\n",
        "# anchors: 3  # anchors per output layer (0 to ignore)\n",
        "fl_gamma: 0.0  # focal loss gamma (efficientDet default gamma=1.5)\n",
        "hsv_h: 0.015  # image HSV-Hue augmentation (fraction)\n",
        "hsv_s: 0.7  # image HSV-Saturation augmentation (fraction)\n",
        "hsv_v: 0.4  # image HSV-Value augmentation (fraction)\n",
        "degrees: 0.0  # image rotation (+/- deg)\n",
        "translate: 0.1  # image translation (+/- fraction)\n",
        "scale: 0.5  # image scale (+/- gain)\n",
        "shear: 0.0  # image shear (+/- deg)\n",
        "perspective: 0.0  # image perspective (+/- fraction), range 0-0.001\n",
        "flipud: 0.5  # image flip up-down (probability)\n",
        "fliplr: 0.5  # image flip left-right (probability)\n",
        "mosaic: 1.0  # image mosaic (probability)\n",
        "mixup: 0.5  # image mixup (probability)\n",
        "copy_paste: 0.0  # segment copy-paste (probability)\n",
        "'''"
      ]
    },
    {
      "cell_type": "code",
      "execution_count": 10,
      "id": "97318f43",
      "metadata": {
        "execution": {
          "iopub.execute_input": "2022-01-13T15:53:47.417831Z",
          "iopub.status.busy": "2022-01-13T15:53:47.416731Z",
          "iopub.status.idle": "2022-01-13T15:53:47.419054Z",
          "shell.execute_reply": "2022-01-13T15:53:47.419614Z",
          "shell.execute_reply.started": "2022-01-13T15:46:59.716378Z"
        },
        "papermill": {
          "duration": 0.02075,
          "end_time": "2022-01-13T15:53:47.419834",
          "exception": false,
          "start_time": "2022-01-13T15:53:47.399084",
          "status": "completed"
        },
        "tags": [],
        "id": "97318f43"
      },
      "outputs": [],
      "source": [
        "data = '''\n",
        "# Train/val/test sets as 1) dir: path/to/imgs, 2) file: path/to/imgs.txt, or 3) list: [path/to/imgs1, path/to/imgs2, ..]\n",
        "path: ../yolo_data/fold1/  # dataset root dir\n",
        "train: images/train  # train images (relative to 'path') 128 images\n",
        "val: images/val  # val images (relative to 'path') 128 images\n",
        "test:  # test images (optional)\n",
        "\n",
        "# Classes\n",
        "nc: 1  # number of classes\n",
        "names: ['reef']  # class names\n",
        "\n",
        "\n",
        "# Download script/URL (optional)\n",
        "# download: https://ultralytics.com/assets/coco128.zip\n",
        "'''"
      ]
    },
    {
      "cell_type": "code",
      "execution_count": 11,
      "id": "a0ee379a",
      "metadata": {
        "execution": {
          "iopub.execute_input": "2022-01-13T15:53:47.451415Z",
          "iopub.status.busy": "2022-01-13T15:53:47.450711Z",
          "iopub.status.idle": "2022-01-13T15:53:53.870768Z",
          "shell.execute_reply": "2022-01-13T15:53:53.869903Z",
          "shell.execute_reply.started": "2022-01-13T15:43:50.421761Z"
        },
        "papermill": {
          "duration": 6.438222,
          "end_time": "2022-01-13T15:53:53.870943",
          "exception": false,
          "start_time": "2022-01-13T15:53:47.432721",
          "status": "completed"
        },
        "tags": [],
        "id": "a0ee379a",
        "colab": {
          "base_uri": "https://localhost:8080/"
        },
        "outputId": "2434c6a3-5c66-49e3-aa72-83e62f3ddb17"
      },
      "outputs": [
        {
          "output_type": "stream",
          "name": "stdout",
          "text": [
            "Cloning into 'yolov5'...\n",
            "remote: Enumerating objects: 10558, done.\u001b[K\n",
            "remote: Counting objects: 100% (3/3), done.\u001b[K\n",
            "remote: Compressing objects: 100% (3/3), done.\u001b[K\n",
            "remote: Total 10558 (delta 0), reused 3 (delta 0), pack-reused 10555\u001b[K\n",
            "Receiving objects: 100% (10558/10558), 10.75 MiB | 11.01 MiB/s, done.\n",
            "Resolving deltas: 100% (7292/7292), done.\n"
          ]
        }
      ],
      "source": [
        "!git clone https://github.com/ultralytics/yolov5.git"
      ]
    },
    {
      "cell_type": "code",
      "execution_count": 12,
      "id": "b7d49eb7",
      "metadata": {
        "execution": {
          "iopub.execute_input": "2022-01-13T15:53:53.928454Z",
          "iopub.status.busy": "2022-01-13T15:53:53.927491Z",
          "iopub.status.idle": "2022-01-13T15:53:53.931052Z",
          "shell.execute_reply": "2022-01-13T15:53:53.931559Z",
          "shell.execute_reply.started": "2022-01-13T15:47:12.544460Z"
        },
        "papermill": {
          "duration": 0.034386,
          "end_time": "2022-01-13T15:53:53.931810",
          "exception": false,
          "start_time": "2022-01-13T15:53:53.897424",
          "status": "completed"
        },
        "tags": [],
        "id": "b7d49eb7"
      },
      "outputs": [],
      "source": [
        "with open('./yolov5/data/reef_f1_naive.yaml', 'w') as fp:\n",
        "    fp.write(data)\n",
        "with open('./yolov5/data/hyps/hyp.heavy.2.yaml', 'w') as fp:\n",
        "    fp.write(hyps)"
      ]
    },
    {
      "cell_type": "code",
      "execution_count": 13,
      "id": "3218540d",
      "metadata": {
        "execution": {
          "iopub.execute_input": "2022-01-13T15:53:53.987862Z",
          "iopub.status.busy": "2022-01-13T15:53:53.986720Z",
          "iopub.status.idle": "2022-01-13T15:53:53.991138Z",
          "shell.execute_reply": "2022-01-13T15:53:53.991738Z",
          "shell.execute_reply.started": "2022-01-13T15:47:13.894900Z"
        },
        "papermill": {
          "duration": 0.035694,
          "end_time": "2022-01-13T15:53:53.991910",
          "exception": false,
          "start_time": "2022-01-13T15:53:53.956216",
          "status": "completed"
        },
        "tags": [],
        "id": "3218540d",
        "colab": {
          "base_uri": "https://localhost:8080/"
        },
        "outputId": "4bd074da-e3d8-42e1-fd3f-e1983ddb7867"
      },
      "outputs": [
        {
          "output_type": "stream",
          "name": "stdout",
          "text": [
            "/content/yolov5\n"
          ]
        }
      ],
      "source": [
        "%cd yolov5"
      ]
    },
    {
      "cell_type": "code",
      "execution_count": 14,
      "id": "3070ec21",
      "metadata": {
        "execution": {
          "iopub.execute_input": "2022-01-13T15:53:54.055211Z",
          "iopub.status.busy": "2022-01-13T15:53:54.051553Z",
          "iopub.status.idle": "2022-01-13T15:53:54.828678Z",
          "shell.execute_reply": "2022-01-13T15:53:54.827996Z",
          "shell.execute_reply.started": "2022-01-13T15:46:27.057138Z"
        },
        "papermill": {
          "duration": 0.811813,
          "end_time": "2022-01-13T15:53:54.829035",
          "exception": false,
          "start_time": "2022-01-13T15:53:54.017222",
          "status": "completed"
        },
        "tags": [],
        "id": "3070ec21",
        "colab": {
          "base_uri": "https://localhost:8080/"
        },
        "outputId": "84325d42-c8d1-4619-d71f-3bd085ce027e"
      },
      "outputs": [
        {
          "output_type": "stream",
          "name": "stdout",
          "text": [
            "Argoverse.yaml\t      hyps\t\t  scripts\t xView.yaml\n",
            "coco128.yaml\t      images\t\t  SKU-110K.yaml\n",
            "coco.yaml\t      Objects365.yaml\t  VisDrone.yaml\n",
            "GlobalWheat2020.yaml  reef_f1_naive.yaml  VOC.yaml\n"
          ]
        }
      ],
      "source": [
        "!ls data/"
      ]
    },
    {
      "cell_type": "code",
      "source": [
        "!pip install -U PyYAML"
      ],
      "metadata": {
        "id": "ls-ImGPly7sY",
        "colab": {
          "base_uri": "https://localhost:8080/"
        },
        "outputId": "34563b39-adf0-403c-8eac-a4386eeab3e8"
      },
      "id": "ls-ImGPly7sY",
      "execution_count": 15,
      "outputs": [
        {
          "output_type": "stream",
          "name": "stdout",
          "text": [
            "Requirement already satisfied: PyYAML in /usr/local/lib/python3.7/dist-packages (3.13)\n",
            "Collecting PyYAML\n",
            "  Downloading PyYAML-6.0-cp37-cp37m-manylinux_2_5_x86_64.manylinux1_x86_64.manylinux_2_12_x86_64.manylinux2010_x86_64.whl (596 kB)\n",
            "\u001b[K     |████████████████████████████████| 596 kB 4.0 MB/s \n",
            "\u001b[?25hInstalling collected packages: PyYAML\n",
            "  Attempting uninstall: PyYAML\n",
            "    Found existing installation: PyYAML 3.13\n",
            "    Uninstalling PyYAML-3.13:\n",
            "      Successfully uninstalled PyYAML-3.13\n",
            "Successfully installed PyYAML-6.0\n"
          ]
        }
      ]
    },
    {
      "cell_type": "code",
      "source": [
        "#!pip install   albumentations==1.0.3"
      ],
      "metadata": {
        "id": "fO6idxjTYYpi"
      },
      "id": "fO6idxjTYYpi",
      "execution_count": 16,
      "outputs": []
    },
    {
      "cell_type": "code",
      "execution_count": null,
      "id": "4bdd708e",
      "metadata": {
        "execution": {
          "iopub.execute_input": "2022-01-13T15:53:54.887658Z",
          "iopub.status.busy": "2022-01-13T15:53:54.886667Z",
          "iopub.status.idle": "2022-01-13T20:19:57.555955Z",
          "shell.execute_reply": "2022-01-13T20:19:57.554495Z"
        },
        "papermill": {
          "duration": 15962.70214,
          "end_time": "2022-01-13T20:19:57.556145",
          "exception": false,
          "start_time": "2022-01-13T15:53:54.854005",
          "status": "completed"
        },
        "tags": [],
        "id": "4bdd708e",
        "colab": {
          "base_uri": "https://localhost:8080/"
        },
        "outputId": "e92d3765-561a-4767-a071-639c50b96266"
      },
      "outputs": [
        {
          "output_type": "stream",
          "name": "stdout",
          "text": [
            "Downloading https://ultralytics.com/assets/Arial.ttf to /root/.config/Ultralytics/Arial.ttf...\n",
            "\u001b[34m\u001b[1mtrain: \u001b[0mweights=yolov5s6.pt, cfg=, data=reef_f1_naive.yaml, hyp=data/hyps/hyp.heavy.2.yaml, epochs=16, batch_size=2, imgsz=3008, rect=False, resume=False, nosave=False, noval=False, noautoanchor=False, evolve=None, bucket=, cache=None, image_weights=False, device=, multi_scale=False, single_cls=False, optimizer=SGD, sync_bn=False, workers=8, project=runs/train, name=l6_3600_uflip_vm5_f1, exist_ok=False, quad=False, linear_lr=False, label_smoothing=0.0, patience=100, freeze=[0], save_period=-1, local_rank=-1, entity=None, upload_dataset=False, bbox_interval=-1, artifact_alias=latest\n",
            "\u001b[34m\u001b[1mgithub: \u001b[0mup to date with https://github.com/ultralytics/yolov5 ✅\n",
            "YOLOv5 🚀 v6.0-193-gdb1f83b torch 1.10.0+cu111 CUDA:0 (Tesla P100-PCIE-16GB, 16281MiB)\n",
            "\n",
            "\u001b[34m\u001b[1mhyperparameters: \u001b[0mlr0=0.01, lrf=0.1, momentum=0.937, weight_decay=0.0005, warmup_epochs=3.0, warmup_momentum=0.8, warmup_bias_lr=0.1, box=0.05, cls=0.5, cls_pw=1.0, obj=1.0, obj_pw=1.0, iou_t=0.2, anchor_t=4.0, fl_gamma=0.0, hsv_h=0.015, hsv_s=0.7, hsv_v=0.4, degrees=0.0, translate=0.1, scale=0.5, shear=0.0, perspective=0.0, flipud=0.5, fliplr=0.5, mosaic=1.0, mixup=0.5, copy_paste=0.0\n",
            "\u001b[34m\u001b[1mWeights & Biases: \u001b[0mrun 'pip install wandb' to automatically track and visualize YOLOv5 🚀 runs (RECOMMENDED)\n",
            "\u001b[34m\u001b[1mTensorBoard: \u001b[0mStart with 'tensorboard --logdir runs/train', view at http://localhost:6006/\n",
            "Downloading https://github.com/ultralytics/yolov5/releases/download/v6.0/yolov5s6.pt to yolov5s6.pt...\n",
            "100% 24.5M/24.5M [00:01<00:00, 14.5MB/s]\n",
            "\n",
            "Overriding model.yaml nc=80 with nc=1\n",
            "\n",
            "                 from  n    params  module                                  arguments                     \n",
            "  0                -1  1      3520  models.common.Conv                      [3, 32, 6, 2, 2]              \n",
            "  1                -1  1     18560  models.common.Conv                      [32, 64, 3, 2]                \n",
            "  2                -1  1     18816  models.common.C3                        [64, 64, 1]                   \n",
            "  3                -1  1     73984  models.common.Conv                      [64, 128, 3, 2]               \n",
            "  4                -1  2    115712  models.common.C3                        [128, 128, 2]                 \n",
            "  5                -1  1    295424  models.common.Conv                      [128, 256, 3, 2]              \n",
            "  6                -1  3    625152  models.common.C3                        [256, 256, 3]                 \n",
            "  7                -1  1    885504  models.common.Conv                      [256, 384, 3, 2]              \n",
            "  8                -1  1    665856  models.common.C3                        [384, 384, 1]                 \n",
            "  9                -1  1   1770496  models.common.Conv                      [384, 512, 3, 2]              \n",
            " 10                -1  1   1182720  models.common.C3                        [512, 512, 1]                 \n",
            " 11                -1  1    656896  models.common.SPPF                      [512, 512, 5]                 \n",
            " 12                -1  1    197376  models.common.Conv                      [512, 384, 1, 1]              \n",
            " 13                -1  1         0  torch.nn.modules.upsampling.Upsample    [None, 2, 'nearest']          \n",
            " 14           [-1, 8]  1         0  models.common.Concat                    [1]                           \n",
            " 15                -1  1    813312  models.common.C3                        [768, 384, 1, False]          \n",
            " 16                -1  1     98816  models.common.Conv                      [384, 256, 1, 1]              \n",
            " 17                -1  1         0  torch.nn.modules.upsampling.Upsample    [None, 2, 'nearest']          \n",
            " 18           [-1, 6]  1         0  models.common.Concat                    [1]                           \n",
            " 19                -1  1    361984  models.common.C3                        [512, 256, 1, False]          \n",
            " 20                -1  1     33024  models.common.Conv                      [256, 128, 1, 1]              \n",
            " 21                -1  1         0  torch.nn.modules.upsampling.Upsample    [None, 2, 'nearest']          \n",
            " 22           [-1, 4]  1         0  models.common.Concat                    [1]                           \n",
            " 23                -1  1     90880  models.common.C3                        [256, 128, 1, False]          \n",
            " 24                -1  1    147712  models.common.Conv                      [128, 128, 3, 2]              \n",
            " 25          [-1, 20]  1         0  models.common.Concat                    [1]                           \n",
            " 26                -1  1    296448  models.common.C3                        [256, 256, 1, False]          \n",
            " 27                -1  1    590336  models.common.Conv                      [256, 256, 3, 2]              \n",
            " 28          [-1, 16]  1         0  models.common.Concat                    [1]                           \n",
            " 29                -1  1    715008  models.common.C3                        [512, 384, 1, False]          \n",
            " 30                -1  1   1327872  models.common.Conv                      [384, 384, 3, 2]              \n",
            " 31          [-1, 12]  1         0  models.common.Concat                    [1]                           \n",
            " 32                -1  1   1313792  models.common.C3                        [768, 512, 1, False]          \n",
            " 33  [23, 26, 29, 32]  1     23112  models.yolo.Detect                      [1, [[19, 27, 44, 40, 38, 94], [96, 68, 86, 152, 180, 137], [140, 301, 303, 264, 238, 542], [436, 615, 739, 380, 925, 792]], [128, 256, 384, 512]]\n",
            "Model Summary: 355 layers, 12322312 parameters, 12322312 gradients\n",
            "\n",
            "Transferred 451/459 items from yolov5s6.pt\n",
            "Scaled weight_decay = 0.0005\n",
            "\u001b[34m\u001b[1moptimizer:\u001b[0m SGD with parameter groups 75 weight (no decay), 79 weight, 79 bias\n",
            "\u001b[34m\u001b[1malbumentations: \u001b[0mversion 1.0.3 required by YOLOv5, but version 0.1.12 is currently installed\n",
            "\u001b[34m\u001b[1mtrain: \u001b[0mScanning '../yolo_data/fold1/labels/train' images and labels...2820 found, 0 missing, 0 empty, 1 corrupted: 100% 2820/2820 [00:00<00:00, 5106.41it/s]\n",
            "\u001b[34m\u001b[1mtrain: \u001b[0mWARNING: ../yolo_data/fold1/images/train/0-9470.jpg: ignoring corrupt image/label: non-normalized or out of bounds coordinates [     1.0021]\n",
            "\u001b[34m\u001b[1mtrain: \u001b[0mNew cache created: ../yolo_data/fold1/labels/train.cache\n",
            "\u001b[34m\u001b[1mval: \u001b[0mScanning '../yolo_data/fold1/labels/val' images and labels...2099 found, 6133 missing, 0 empty, 0 corrupted: 100% 8232/8232 [00:05<00:00, 1511.90it/s]\n",
            "\u001b[34m\u001b[1mval: \u001b[0mNew cache created: ../yolo_data/fold1/labels/val.cache\n",
            "Plotting labels to runs/train/l6_3600_uflip_vm5_f1/labels.jpg... \n",
            "\n",
            "\u001b[34m\u001b[1mAutoAnchor: \u001b[0m6.63 anchors/target, 1.000 Best Possible Recall (BPR). Current anchors are a good fit to dataset ✅\n",
            "Image sizes 3008 train, 3008 val\n",
            "Using 2 dataloader workers\n",
            "Logging results to \u001b[1mruns/train/l6_3600_uflip_vm5_f1\u001b[0m\n",
            "Starting training for 16 epochs...\n",
            "\n",
            "     Epoch   gpu_mem       box       obj       cls    labels  img_size\n",
            "      0/15     9.03G   0.07206   0.08177         0         7      3008: 100% 1410/1410 [25:27<00:00,  1.08s/it]\n",
            "               Class     Images     Labels          P          R     mAP@.5 mAP@.5:.95: 100% 2058/2058 [06:50<00:00,  5.01it/s]\n",
            "                 all       8232       6384     0.0148     0.0725    0.00468    0.00132\n",
            "\n",
            "     Epoch   gpu_mem       box       obj       cls    labels  img_size\n",
            "      1/15     9.05G   0.05092   0.06311         0         7      3008: 100% 1410/1410 [25:19<00:00,  1.08s/it]\n",
            "               Class     Images     Labels          P          R     mAP@.5 mAP@.5:.95: 100% 2058/2058 [06:43<00:00,  5.10it/s]\n",
            "                 all       8232       6384      0.421      0.345      0.293      0.109\n",
            "\n",
            "     Epoch   gpu_mem       box       obj       cls    labels  img_size\n",
            "      2/15     9.05G   0.04572   0.05013         0        12      3008: 100% 1410/1410 [25:18<00:00,  1.08s/it]\n",
            "               Class     Images     Labels          P          R     mAP@.5 mAP@.5:.95: 100% 2058/2058 [06:48<00:00,  5.03it/s]\n",
            "                 all       8232       6384       0.74      0.443      0.503        0.2\n",
            "\n",
            "     Epoch   gpu_mem       box       obj       cls    labels  img_size\n",
            "      3/15     9.05G    0.0404   0.04752         0         2      3008: 100% 1410/1410 [25:19<00:00,  1.08s/it]\n",
            "               Class     Images     Labels          P          R     mAP@.5 mAP@.5:.95: 100% 2058/2058 [06:52<00:00,  4.99it/s]\n",
            "                 all       8232       6384      0.795      0.547      0.633      0.291\n",
            "\n",
            "     Epoch   gpu_mem       box       obj       cls    labels  img_size\n",
            "      4/15     9.05G   0.03848   0.04722         0        10      3008:  48% 681/1410 [12:13<13:04,  1.08s/it]"
          ]
        }
      ],
      "source": [
        "!python train.py --img 3008  --batch 2 --epochs 16 --data reef_f1_naive.yaml --weights yolov5s6.pt --name l6_3600_uflip_vm5_f1 --hyp data/hyps/hyp.heavy.2.yaml"
      ]
    },
    {
      "cell_type": "code",
      "execution_count": null,
      "id": "2bda6aea",
      "metadata": {
        "execution": {
          "iopub.execute_input": "2022-01-13T20:20:03.890781Z",
          "iopub.status.busy": "2022-01-13T20:20:03.890068Z",
          "iopub.status.idle": "2022-01-13T20:20:04.716600Z",
          "shell.execute_reply": "2022-01-13T20:20:04.715498Z",
          "shell.execute_reply.started": "2022-01-13T15:38:38.001095Z"
        },
        "papermill": {
          "duration": 3.968086,
          "end_time": "2022-01-13T20:20:04.716797",
          "exception": false,
          "start_time": "2022-01-13T20:20:00.748711",
          "status": "completed"
        },
        "tags": [],
        "id": "2bda6aea"
      },
      "outputs": [],
      "source": [
        "!ls"
      ]
    },
    {
      "cell_type": "code",
      "source": [
        "!mkdir -p  /content/mydrive/MyDrive/yolov5_train/0118"
      ],
      "metadata": {
        "id": "LrcurNMivrjE"
      },
      "id": "LrcurNMivrjE",
      "execution_count": null,
      "outputs": []
    },
    {
      "cell_type": "code",
      "execution_count": null,
      "id": "0306c963",
      "metadata": {
        "papermill": {
          "duration": 3.208463,
          "end_time": "2022-01-13T20:20:11.246870",
          "exception": false,
          "start_time": "2022-01-13T20:20:08.038407",
          "status": "completed"
        },
        "tags": [],
        "id": "0306c963"
      },
      "outputs": [],
      "source": [
        "!cp -rf /content/yolov5/runs/train  /content/mydrive/MyDrive/yolov5_train/0118"
      ]
    }
  ],
  "metadata": {
    "kernelspec": {
      "display_name": "Python 3",
      "language": "python",
      "name": "python3"
    },
    "language_info": {
      "codemirror_mode": {
        "name": "ipython",
        "version": 3
      },
      "file_extension": ".py",
      "mimetype": "text/x-python",
      "name": "python",
      "nbconvert_exporter": "python",
      "pygments_lexer": "ipython3",
      "version": "3.7.12"
    },
    "papermill": {
      "default_parameters": {},
      "duration": 16143.063915,
      "end_time": "2022-01-13T20:20:15.069519",
      "environment_variables": {},
      "exception": null,
      "input_path": "__notebook__.ipynb",
      "output_path": "__notebook__.ipynb",
      "parameters": {},
      "start_time": "2022-01-13T15:51:12.005604",
      "version": "2.3.3"
    },
    "colab": {
      "name": "yolov5-high-resolution-training.ipynb",
      "provenance": [],
      "machine_shape": "hm",
      "collapsed_sections": [],
      "include_colab_link": true
    },
    "accelerator": "GPU"
  },
  "nbformat": 4,
  "nbformat_minor": 5
}